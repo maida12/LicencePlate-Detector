{
 "cells": [
  {
   "cell_type": "code",
   "execution_count": 22,
   "metadata": {
    "colab": {},
    "colab_type": "code",
    "id": "ycRjhI25UC-P"
   },
   "outputs": [],
   "source": [
    "import matplotlib.pyplot as plt"
   ]
  },
  {
   "cell_type": "code",
   "execution_count": 23,
   "metadata": {
    "colab": {},
    "colab_type": "code",
    "id": "MzopHrMvUC-Z"
   },
   "outputs": [],
   "source": [
    "import numpy as np\n",
    "import cv2\n",
    "\n",
    "# Match contours to license plate or character template\n",
    "def find_contours(dimensions, img):\n",
    "\n",
    "    # Find all contours in the image\n",
    "    cntrs, _ = cv2.findContours(img.copy(), cv2.RETR_TREE, cv2.CHAIN_APPROX_SIMPLE)\n",
    "    \n",
    "    # Retrieve potential dimensions\n",
    "    lower_width = dimensions[0]+12.5\n",
    "    upper_width = dimensions[1]+7.5\n",
    "    lower_height = dimensions[2]-15\n",
    "    upper_height = dimensions[3]\n",
    "    \n",
    "    # Check largest 5 or 15 contours for license plate or character respectively\n",
    "    cntrs = sorted(cntrs, key=cv2.contourArea, reverse=True)[:15]\n",
    "    \n",
    "    # Read the binary image\n",
    "    ii = cv2.imread('contour.jpg')\n",
    "\n",
    "    x_cntr_list = []\n",
    "    target_contours = []\n",
    "    img_res = []\n",
    "    \n",
    "    # Read all contours detected\n",
    "    for cntr in cntrs :\n",
    "        #detects contour in binary image and returns the coordinates of rectangle enclosing it\n",
    "        intX, intY, intWidth, intHeight = cv2.boundingRect(cntr)\n",
    "        \n",
    "        #checking the dimensions of the contour to filter out the characters by contour's size\n",
    "        if intWidth > lower_width and intWidth < upper_width and intHeight > lower_height and intHeight < upper_height :\n",
    "            \n",
    "            # stores the x coordinate of the character's contour, to used later for indexing the contours\n",
    "            x_cntr_list.append(intX)\n",
    "            char_copy = np.zeros((44,24))\n",
    "            \n",
    "            #extracting each character using the enclosing rectangle's coordinates.\n",
    "            char = img[intY:intY+intHeight, intX:intX+intWidth]\n",
    "            char = cv2.resize(char, (20, 40))\n",
    "            \n",
    "            # Draw rectangle around contour\n",
    "            cv2.rectangle(ii, (intX,intY), (intWidth+intX, intY+intHeight), (50,21,200), 2)\n",
    "            \n",
    "            # Display the uptated binary image with new contour\n",
    "            plt.imshow(ii, cmap='gray')\n",
    "            \n",
    "            # Make result formatted for classification: invert colors\n",
    "            char = cv2.subtract(255, char)\n",
    "            \n",
    "            # Resize the image to 24x44 with black border\n",
    "            char_copy[2:42, 2:22] = char\n",
    "            char_copy[0:2, :] = 0\n",
    "            char_copy[:, 0:2] = 0\n",
    "            char_copy[42:44, :] = 0\n",
    "            char_copy[:, 22:24] = 0\n",
    "            \n",
    "            # List that stores the character's binary image (unsorted)\n",
    "            img_res.append(char_copy) \n",
    "            \n",
    "    # arbitrary function that stores sorted list of character indeces\n",
    "    indices = sorted(range(len(x_cntr_list)), key=lambda k: x_cntr_list[k])\n",
    "    img_res_copy = []\n",
    "    \n",
    "    for idx in indices:\n",
    "        # stores character images according to their index\n",
    "        img_res_copy.append(img_res[idx])\n",
    "        \n",
    "    img_res = np.array(img_res_copy)\n",
    "   \n",
    "    return img_res"
   ]
  },
  {
   "cell_type": "code",
   "execution_count": 24,
   "metadata": {
    "colab": {},
    "colab_type": "code",
    "id": "h23diSmEUC-e"
   },
   "outputs": [],
   "source": [
    "# Find characters in the resulting images and Preprocess license plate image\n",
    "def segment_characters(image):\n",
    "    # Resizing\n",
    "    img_lp = cv2.resize(image, (333, 75))\n",
    "    \n",
    "    # Apply gray scale\n",
    "    img_gray_lp = cv2.cvtColor(img_lp, cv2.COLOR_BGR2GRAY)\n",
    "    \n",
    "    # Convert to binary image\n",
    "    _, img_binary_lp = cv2.threshold(img_gray_lp, 200, 255, cv2.THRESH_BINARY+cv2.THRESH_OTSU)\n",
    "    \n",
    "    # Erode unwanted pixels\n",
    "    img_binary_lp = cv2.erode(img_binary_lp, (3,3))\n",
    "    \n",
    "    # Dilate unwanted pixels\n",
    "    img_binary_lp = cv2.dilate(img_binary_lp, (3,3))\n",
    "    \n",
    "    LP_WIDTH = img_binary_lp.shape[0]\n",
    "    LP_HEIGHT = img_binary_lp.shape[1]\n",
    "    \n",
    "    # Make borders white\n",
    "    img_binary_lp[0:3,:] = 255\n",
    "    img_binary_lp[:,0:3] = 255\n",
    "    img_binary_lp[72:75,:] = 255\n",
    "    img_binary_lp[:,330:333] = 255\n",
    "    \n",
    "    # Estimations of character contours sizes of cropped license plates\n",
    "    dimensions = [LP_WIDTH/6, LP_WIDTH/2, LP_HEIGHT/10, 2 * LP_HEIGHT/3]\n",
    "    \n",
    "    # Visual display of binary image\n",
    "    plt.imshow(img_binary_lp, cmap='gray')\n",
    "    plt.show()\n",
    "    \n",
    "    # Create a binary image for next steps\n",
    "    cv2.imwrite('contour.jpg',img_binary_lp)\n",
    "\n",
    "    # Get contours within cropped license plate\n",
    "    char_list = find_contours(dimensions, img_binary_lp)\n",
    "\n",
    "    return char_list"
   ]
  },
  {
   "cell_type": "code",
   "execution_count": 25,
   "metadata": {
    "colab": {
     "base_uri": "https://localhost:8080/",
     "height": 237
    },
    "colab_type": "code",
    "id": "OGhFmSnYUC-j",
    "outputId": "fabb6134-d314-439b-fb85-3967f315fd1c"
   },
   "outputs": [
    {
     "data": {
      "image/png": "[encoded data removed]",
      "text/plain": [
       "<Figure size 432x288 with 1 Axes>"
      ]
     },
     "metadata": {
      "needs_background": "light"
     },
     "output_type": "display_data"
    },
    {
     "data": {
      "image/png": "[encoded data removed]",
      "text/plain": [
       "<Figure size 432x288 with 1 Axes>"
      ]
     },
     "metadata": {
      "needs_background": "light"
     },
     "output_type": "display_data"
    }
   ],
   "source": [
    "img = cv2.imread('car1.jpg')\n",
    "char = segment_characters(img)"
   ]
  },
  {
   "cell_type": "code",
   "execution_count": 26,
   "metadata": {
    "colab": {
     "base_uri": "https://localhost:8080/",
     "height": 83
    },
    "colab_type": "code",
    "id": "rZoiyrDaUC-p",
    "outputId": "12c01433-ba9b-45fc-8663-ddf2f3a3cc22"
   },
   "outputs": [
    {
     "data": {
      "image/png": "[encoded data removed]",
      "text/plain": [
       "<Figure size 432x288 with 7 Axes>"
      ]
     },
     "metadata": {
      "needs_background": "light"
     },
     "output_type": "display_data"
    }
   ],
   "source": [
    "for i in range(len(char)):\n",
    "    plt.subplot(1, 10, i+1)\n",
    "    plt.imshow(char[i], cmap='gray')\n",
    "    plt.axis('off')"
   ]
  },
  {
   "cell_type": "code",
   "execution_count": 27,
   "metadata": {
    "colab": {},
    "colab_type": "code",
    "id": "cnH_x_PXUC_A"
   },
   "outputs": [],
   "source": [
    "import tensorflow as tf\n",
    "tf.enable_eager_execution()"
   ]
  },
  {
   "cell_type": "code",
   "execution_count": 28,
   "metadata": {
    "colab": {
     "base_uri": "https://localhost:8080/",
     "height": 51
    },
    "colab_type": "code",
    "id": "BhrsmfX9UC_p",
    "outputId": "0bd4c93b-dc04-4ca4-877b-9f084a03b550"
   },
   "outputs": [
    {
     "name": "stdout",
     "output_type": "stream",
     "text": [
      "Found 864 images belonging to 36 classes.\n",
      "Found 216 images belonging to 36 classes.\n"
     ]
    }
   ],
   "source": [
    "from tensorflow.keras.preprocessing.image import ImageDataGenerator\n",
    "train_datagen = ImageDataGenerator(rescale=1./255, width_shift_range=0.1, height_shift_range=0.1)\n",
    "train_generator = train_datagen.flow_from_directory(\n",
    "        'C:/Users/Faizan/Downloads/Car plate recognition Lahore/data/train',\n",
    "        target_size=(28,28), # all images will be resized to 28x28\n",
    "        batch_size=1,\n",
    "        class_mode='categorical')\n",
    "\n",
    "validation_generator = train_datagen.flow_from_directory(\n",
    "        'C:/Users/Faizan/Downloads/Car plate recognition Lahore/data/val',\n",
    "        target_size=(28,28),  # all images will be resized to 28x28\n",
    "        class_mode='categorical')"
   ]
  },
  {
   "cell_type": "code",
   "execution_count": 8,
   "metadata": {
    "colab": {},
    "colab_type": "code",
    "id": "jy9Ges8McSGl"
   },
   "outputs": [],
   "source": [
    "from tensorflow.keras.models import Sequential\n",
    "from tensorflow.keras.layers import Dense, Flatten, MaxPooling2D, Dropout, Conv2D\n",
    "from tensorflow.keras import optimizers"
   ]
  },
  {
   "cell_type": "code",
   "execution_count": 9,
   "metadata": {
    "colab": {},
    "colab_type": "code",
    "id": "8IjCdBYrp4EK"
   },
   "outputs": [],
   "source": [
    "model = Sequential()\n",
    "model.add(Conv2D(32, (5,5), input_shape=(28, 28, 3), activation='relu', padding='same'))\n",
    "model.add(MaxPooling2D(pool_size=(2, 2)))\n",
    "model.add(Dropout(0.4))\n",
    "model.add(Flatten())\n",
    "model.add(Dense(128, activation='relu'))\n",
    "model.add(Dense(36, activation='softmax'))\n",
    "\n",
    "model.compile(loss='categorical_crossentropy', optimizer=optimizers.Adam(lr=0.00001), metrics=['accuracy'])"
   ]
  },
  {
   "cell_type": "code",
   "execution_count": 10,
   "metadata": {
    "colab": {
     "base_uri": "https://localhost:8080/",
     "height": 1000
    },
    "colab_type": "code",
    "id": "KPAtDd_Jp4BP",
    "outputId": "fbdd1ad4-32fd-40b7-eb13-61ed1db14e47",
    "scrolled": true
   },
   "outputs": [
    {
     "name": "stdout",
     "output_type": "stream",
     "text": [
      "Epoch 1/30\n",
      "WARNING:tensorflow:From C:\\Users\\Faizan\\anaconda3\\lib\\site-packages\\tensorflow\\python\\ops\\math_grad.py:1250: add_dispatch_support.<locals>.wrapper (from tensorflow.python.ops.array_ops) is deprecated and will be removed in a future version.\n",
      "Instructions for updating:\n",
      "Use tf.where in 2.0, which has the same broadcast rule as np.where\n",
      "864/864 [==============================] - 11s 13ms/step - loss: 3.5352 - acc: 0.0521 - val_loss: 3.4064 - val_acc: 0.1296\n",
      "Epoch 2/30\n",
      "864/864 [==============================] - 9s 11ms/step - loss: 3.3492 - acc: 0.1262 - val_loss: 3.1754 - val_acc: 0.2546\n",
      "Epoch 3/30\n",
      "864/864 [==============================] - 10s 11ms/step - loss: 3.0764 - acc: 0.2222 - val_loss: 2.8473 - val_acc: 0.4398\n",
      "Epoch 4/30\n",
      "864/864 [==============================] - 10s 12ms/step - loss: 2.7099 - acc: 0.3692 - val_loss: 2.4311 - val_acc: 0.5463\n",
      "Epoch 5/30\n",
      "864/864 [==============================] - 10s 11ms/step - loss: 2.3078 - acc: 0.4444 - val_loss: 2.0175 - val_acc: 0.6435\n",
      "Epoch 6/30\n",
      "864/864 [==============================] - 9s 11ms/step - loss: 1.9389 - acc: 0.5405 - val_loss: 1.7087 - val_acc: 0.7315\n",
      "Epoch 7/30\n",
      "864/864 [==============================] - 9s 11ms/step - loss: 1.6155 - acc: 0.6088 - val_loss: 1.4416 - val_acc: 0.7500\n",
      "Epoch 8/30\n",
      "864/864 [==============================] - 8s 9ms/step - loss: 1.4418 - acc: 0.6366 - val_loss: 1.1830 - val_acc: 0.7917\n",
      "Epoch 9/30\n",
      "864/864 [==============================] - 9s 11ms/step - loss: 1.2087 - acc: 0.6875 - val_loss: 1.0368 - val_acc: 0.8009\n",
      "Epoch 10/30\n",
      "864/864 [==============================] - 9s 10ms/step - loss: 1.1038 - acc: 0.6921 - val_loss: 0.9971 - val_acc: 0.7917\n",
      "Epoch 11/30\n",
      "864/864 [==============================] - 8s 9ms/step - loss: 0.9747 - acc: 0.7338 - val_loss: 0.8378 - val_acc: 0.8333\n",
      "Epoch 12/30\n",
      "864/864 [==============================] - 8s 10ms/step - loss: 0.8805 - acc: 0.7685 - val_loss: 0.6698 - val_acc: 0.8565\n",
      "Epoch 13/30\n",
      "864/864 [==============================] - 8s 9ms/step - loss: 0.7802 - acc: 0.7882 - val_loss: 0.7263 - val_acc: 0.8519\n",
      "Epoch 14/30\n",
      "864/864 [==============================] - 8s 9ms/step - loss: 0.7511 - acc: 0.7847 - val_loss: 0.5728 - val_acc: 0.8889\n",
      "Epoch 15/30\n",
      "864/864 [==============================] - 7s 9ms/step - loss: 0.7286 - acc: 0.7940 - val_loss: 0.5770 - val_acc: 0.8889\n",
      "Epoch 16/30\n",
      "864/864 [==============================] - 7s 8ms/step - loss: 0.6940 - acc: 0.7998 - val_loss: 0.5042 - val_acc: 0.8981\n",
      "Epoch 17/30\n",
      "864/864 [==============================] - 7s 8ms/step - loss: 0.6289 - acc: 0.8160 - val_loss: 0.5265 - val_acc: 0.8843\n",
      "Epoch 18/30\n",
      "864/864 [==============================] - 7s 8ms/step - loss: 0.5642 - acc: 0.8461 - val_loss: 0.4722 - val_acc: 0.8843\n",
      "Epoch 19/30\n",
      "864/864 [==============================] - 8s 9ms/step - loss: 0.5862 - acc: 0.8252 - val_loss: 0.4684 - val_acc: 0.8796\n",
      "Epoch 20/30\n",
      "864/864 [==============================] - 7s 9ms/step - loss: 0.5854 - acc: 0.8403 - val_loss: 0.4021 - val_acc: 0.9120\n",
      "Epoch 21/30\n",
      "864/864 [==============================] - 7s 8ms/step - loss: 0.5487 - acc: 0.8310 - val_loss: 0.3910 - val_acc: 0.8981\n",
      "Epoch 22/30\n",
      "864/864 [==============================] - 7s 8ms/step - loss: 0.4911 - acc: 0.8565 - val_loss: 0.3918 - val_acc: 0.9306\n",
      "Epoch 23/30\n",
      "864/864 [==============================] - 7s 8ms/step - loss: 0.4694 - acc: 0.8600 - val_loss: 0.4326 - val_acc: 0.8935\n",
      "Epoch 24/30\n",
      "864/864 [==============================] - 8s 10ms/step - loss: 0.4373 - acc: 0.8623 - val_loss: 0.4215 - val_acc: 0.8889\n",
      "Epoch 25/30\n",
      "864/864 [==============================] - 8s 9ms/step - loss: 0.4477 - acc: 0.8634 - val_loss: 0.3283 - val_acc: 0.9074\n",
      "Epoch 26/30\n",
      "864/864 [==============================] - 9s 10ms/step - loss: 0.4498 - acc: 0.8738 - val_loss: 0.3318 - val_acc: 0.9167\n",
      "Epoch 27/30\n",
      "864/864 [==============================] - 8s 9ms/step - loss: 0.4081 - acc: 0.8785 - val_loss: 0.3058 - val_acc: 0.9352\n",
      "Epoch 28/30\n",
      "864/864 [==============================] - 8s 9ms/step - loss: 0.3550 - acc: 0.8912 - val_loss: 0.3129 - val_acc: 0.9167\n",
      "Epoch 29/30\n",
      "864/864 [==============================] - 8s 9ms/step - loss: 0.3769 - acc: 0.8681 - val_loss: 0.2947 - val_acc: 0.9306\n",
      "Epoch 30/30\n",
      "864/864 [==============================] - 8s 9ms/step - loss: 0.3683 - acc: 0.8889 - val_loss: 0.2472 - val_acc: 0.9213\n"
     ]
    },
    {
     "data": {
      "text/plain": [
       "<tensorflow.python.keras.callbacks.History at 0x23880240e48>"
      ]
     },
     "execution_count": 10,
     "metadata": {},
     "output_type": "execute_result"
    }
   ],
   "source": [
    "batch_size = 1\n",
    "model.fit_generator(\n",
    "      train_generator,\n",
    "      validation_data = validation_generator, \n",
    "      epochs = 30)"
   ]
  },
  {
   "cell_type": "code",
   "execution_count": 11,
   "metadata": {
    "colab": {
     "base_uri": "https://localhost:8080/",
     "height": 34
    },
    "colab_type": "code",
    "id": "3PICNwtZUDAD",
    "outputId": "483eda61-5d3a-4600-ab47-e1cd1bb6058e"
   },
   "outputs": [
    {
     "name": "stdout",
     "output_type": "stream",
     "text": [
      "1L9E8F1\n"
     ]
    }
   ],
   "source": [
    "def fix_dimension(img): \n",
    "  new_img = np.zeros((28,28,3))\n",
    "  for i in range(3):\n",
    "    new_img[:,:,i] = img\n",
    "  return new_img\n",
    "  \n",
    "def show_results():\n",
    "    dic = {}\n",
    "    characters = '0123456789ABCDEFGHIJKLMNOPQRSTUVWXYZ'\n",
    "    for i,c in enumerate(characters):\n",
    "        dic[i] = c\n",
    "\n",
    "    output = []\n",
    "    for i,ch in enumerate(char): #iterating over the characters\n",
    "        img_ = cv2.resize(ch, (28,28))\n",
    "        img = fix_dimension(img_)\n",
    "        img = img.reshape(1,28,28,3) #preparing image for the model\n",
    "        y_ = model.predict_classes(img)[0] #predicting the class\n",
    "        character = dic[y_] #\n",
    "        output.append(character) #storing the result in a list\n",
    "        \n",
    "    plate_number = ''.join(output)\n",
    "    \n",
    "    return plate_number\n",
    "\n",
    "print(show_results())"
   ]
  },
  {
   "cell_type": "code",
   "execution_count": 12,
   "metadata": {
    "colab": {
     "base_uri": "https://localhost:8080/",
     "height": 373
    },
    "colab_type": "code",
    "id": "urZpH4YFUDAI",
    "outputId": "6688d92e-0c11-48c7-baa3-1c44b36873aa",
    "scrolled": true
   },
   "outputs": [
    {
     "data": {
      "image/png": "[encoded data removed]",
      "text/plain": [
       "<Figure size 720x432 with 3 Axes>"
      ]
     },
     "metadata": {
      "needs_background": "light"
     },
     "output_type": "display_data"
    },
    {
     "data": {
      "image/png": "[encoded data removed]",
      "text/plain": [
       "<Figure size 720x432 with 4 Axes>"
      ]
     },
     "metadata": {
      "needs_background": "light"
     },
     "output_type": "display_data"
    }
   ],
   "source": [
    "plt.figure(figsize=(10,6))\n",
    "\n",
    "for i,ch in enumerate(char):\n",
    "    if i % 2 == 1:\n",
    "        img = cv2.resize(ch, (28,28))\n",
    "        plt.subplot(3,4,i+1)\n",
    "        plt.imshow(img,cmap='gray')\n",
    "        plt.title(f'predicted: {show_results()[i]}')\n",
    "        plt.axis('off')\n",
    "plt.show()\n",
    "\n",
    "plt.figure(figsize=(10,6))\n",
    "for i,ch in enumerate(char):\n",
    "    if i % 2 == 0:\n",
    "        img = cv2.resize(ch, (28,28))\n",
    "        plt.subplot(3,4,i+1)\n",
    "        plt.imshow(img,cmap='gray')\n",
    "        plt.title(f'predicted: {show_results()[i]}')\n",
    "        plt.axis('off')\n",
    "plt.show()"
   ]
  },
  {
   "cell_type": "code",
   "execution_count": null,
   "metadata": {
    "colab": {},
    "colab_type": "code",
    "id": "uBboEZgAUDAT"
   },
   "outputs": [],
   "source": []
  },
  {
   "cell_type": "code",
   "execution_count": null,
   "metadata": {},
   "outputs": [],
   "source": []
  }
 ],
 "metadata": {
  "accelerator": "GPU",
  "colab": {
   "collapsed_sections": [],
   "name": "ai_powered_license_plate_detector.ipynb",
   "provenance": []
  },
  "kernelspec": {
   "display_name": "Python 3",
   "language": "python",
   "name": "python3"
  },
  "language_info": {
   "codemirror_mode": {
    "name": "ipython",
    "version": 3
   },
   "file_extension": ".py",
   "mimetype": "text/x-python",
   "name": "python",
   "nbconvert_exporter": "python",
   "pygments_lexer": "ipython3",
   "version": "3.7.6"
  }
 },
 "nbformat": 4,
 "nbformat_minor": 1
}
